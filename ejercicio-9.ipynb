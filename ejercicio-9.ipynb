{
 "cells": [
  {
   "cell_type": "markdown",
   "metadata": {},
   "source": [
    "## Ejercicio Uso de funciones en Python"
   ]
  },
  {
   "cell_type": "code",
   "execution_count": 4,
   "metadata": {},
   "outputs": [
    {
     "name": "stdout",
     "output_type": "stream",
     "text": [
      "Promedio de combustible es:  8.666666666666666\n",
      "None\n"
     ]
    }
   ],
   "source": [
    "def informe_combustible(tank1, tank2, tank3):\n",
    "    print('Promedio de combustible es: ', calcular_promedio(tank1,tank2,tank3))\n",
    "\n",
    "def calcular_promedio(tank1, tank2, tank3):\n",
    "    return (tank1 + tank2 + tank3)/3\n",
    "\n",
    "print(informe_combustible(5,11,10))"
   ]
  },
  {
   "cell_type": "markdown",
   "metadata": {},
   "source": [
    "## Ejercicio 2 Trabajo con argumentos de palabra clave"
   ]
  },
  {
   "cell_type": "code",
   "execution_count": 16,
   "metadata": {},
   "outputs": [
    {
     "name": "stdout",
     "output_type": "stream",
     "text": [
      "\n",
      "    Destino: Moon\n",
      "    Tiempo de viaje: 74 minutos\n",
      "    Combustible de reserva: 500000\n",
      "    tanque principal --> 300000 litros\n",
      "tanque externo --> 200000 litros\n",
      "\n"
     ]
    }
   ],
   "source": [
    "def reporte_mision(destino, *minutos, **reserva_combustible):\n",
    "    reporte = f\"\"\"\n",
    "    Destino: {destino}\n",
    "    Tiempo de viaje: {sum(minutos)} minutos\n",
    "    Combustible de reserva: {sum(reserva_combustible.values())}\n",
    "    \"\"\"\n",
    "    for tanque, litros in reserva_combustible.items():\n",
    "        reporte += f\"tanque {tanque} --> {litros} litros\\n\"\n",
    "    return reporte\n",
    "\n",
    "print(reporte_mision(\"Moon\", 8, 11, 55, principal=300000, externo=200000))"
   ]
  }
 ],
 "metadata": {
  "interpreter": {
   "hash": "445216e3f68042afd6e993c5a96e1dc1fc47c4fdf372eff228c54d36dfa3f393"
  },
  "kernelspec": {
   "display_name": "Python 3.10.2 64-bit",
   "language": "python",
   "name": "python3"
  },
  "language_info": {
   "codemirror_mode": {
    "name": "ipython",
    "version": 3
   },
   "file_extension": ".py",
   "mimetype": "text/x-python",
   "name": "python",
   "nbconvert_exporter": "python",
   "pygments_lexer": "ipython3",
   "version": "3.10.2"
  },
  "orig_nbformat": 4
 },
 "nbformat": 4,
 "nbformat_minor": 2
}
