{
 "cells": [
  {
   "cell_type": "markdown",
   "metadata": {},
   "source": [
    "# Ejercicio 1"
   ]
  },
  {
   "cell_type": "code",
   "execution_count": 7,
   "metadata": {},
   "outputs": [
    {
     "name": "stdout",
     "output_type": "stream",
     "text": [
      "No hay peligro\n"
     ]
    }
   ],
   "source": [
    "velocidadAsteroide = 49\n",
    "velocidadAdvertencia = 25\n",
    "if velocidadAsteroide >= velocidadAdvertencia:\n",
    "    print('Peligro! Se acerca un asteroide')\n",
    "else:\n",
    "    print('No hay peligro')"
   ]
  },
  {
   "cell_type": "markdown",
   "metadata": {},
   "source": [
    "# Ejercicio 2"
   ]
  },
  {
   "cell_type": "code",
   "execution_count": null,
   "metadata": {},
   "outputs": [],
   "source": [
    "velocidadAsteroide = 19\n",
    "velocidadAdvertencia = 25\n",
    "if velocidadAsteroide >= velocidadAdvertencia:\n",
    "    print('Peligro! Se acerca un asteroide')\n",
    "elif velocidadAsteroide > 20 and velocidadAsteroide < 25:\n",
    "    print('Se puede ver un rayo de luz desde la tierra')\n",
    "else:\n",
    "    print('No hay peligro')"
   ]
  },
  {
   "cell_type": "markdown",
   "metadata": {},
   "source": [
    "# Ejercicio 3"
   ]
  },
  {
   "cell_type": "code",
   "execution_count": null,
   "metadata": {},
   "outputs": [],
   "source": [
    "velocidadAsteroide = 25\n",
    "tamanoAsteroide = 40\n",
    "if velocidad_asteroide > 25 and tamano_asteroide > 25:\n",
    "    print('¡Alerta, Un asteroide muy peligroso viene hacia la Tierra!')\n",
    "elif velocidad_asteroide >= 20:\n",
    "    print('Look up! ¡Hay una luz mágica en el cielo!')\n",
    "elif tamano_asteroide < 25:\n",
    "    print('No hay peligro')\n",
    "else:\n",
    "    print('No hay peligro')"
   ]
  }
 ],
 "metadata": {
  "interpreter": {
   "hash": "445216e3f68042afd6e993c5a96e1dc1fc47c4fdf372eff228c54d36dfa3f393"
  },
  "kernelspec": {
   "display_name": "Python 3.10.2 64-bit",
   "language": "python",
   "name": "python3"
  },
  "language_info": {
   "codemirror_mode": {
    "name": "ipython",
    "version": 3
   },
   "file_extension": ".py",
   "mimetype": "text/x-python",
   "name": "python",
   "nbconvert_exporter": "python",
   "pygments_lexer": "ipython3",
   "version": "3.10.2"
  },
  "orig_nbformat": 4
 },
 "nbformat": 4,
 "nbformat_minor": 2
}
