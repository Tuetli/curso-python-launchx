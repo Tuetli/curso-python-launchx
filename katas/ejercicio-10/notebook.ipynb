{
 "cells": [],
 "metadata": {
  "interpreter": {
   "hash": "445216e3f68042afd6e993c5a96e1dc1fc47c4fdf372eff228c54d36dfa3f393"
  },
  "kernelspec": {
   "display_name": "Python 3.10.2 64-bit",
   "language": "python",
   "name": "python3"
  },
  "language_info": {
   "codemirror_mode": {
    "name": "ipython",
    "version": 3
   },
   "file_extension": ".py",
   "mimetype": "text/x-python",
   "name": "python",
   "nbconvert_exporter": "python",
   "pygments_lexer": "ipython3",
   "version": "3.10.2"
  },
  "orig_nbformat": 4
 },
 "nbformat": 4,
 "nbformat_minor": 2
}
