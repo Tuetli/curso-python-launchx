{
 "cells": [
  {
   "cell_type": "markdown",
   "metadata": {},
   "source": [
    "## Ejercicio 1 Utilizar operadores aritméticos"
   ]
  },
  {
   "cell_type": "code",
   "execution_count": 3,
   "metadata": {},
   "outputs": [
    {
     "name": "stdout",
     "output_type": "stream",
     "text": [
      "Distancia entre Tierra y Jupiter:  628949330\n",
      "Distancia entre Tierra y Jupiter en millas:  390577533.93\n"
     ]
    }
   ],
   "source": [
    "distanciaTierra = 149597870\n",
    "distanciaJupiter = 778547200\n",
    "\n",
    "print('Distancia entre Tierra y Jupiter: ', (distanciaJupiter - distanciaTierra))\n",
    "print('Distancia entre Tierra y Jupiter en millas: ', ((distanciaJupiter - distanciaTierra)*0.621))"
   ]
  },
  {
   "cell_type": "markdown",
   "metadata": {},
   "source": [
    "## Ejercicio 2 Convierte cadenas en números y usa valores absolutos"
   ]
  },
  {
   "cell_type": "code",
   "execution_count": 7,
   "metadata": {},
   "outputs": [
    {
     "name": "stdout",
     "output_type": "stream",
     "text": [
      "Distancia entre los dos planetas:  4437200000\n",
      "Distancia entre los dos planetas en millas:  2755501200.0\n"
     ]
    }
   ],
   "source": [
    "distanciaPlaneta1 = int(input(\"Ingrese la distancia del primer planeta\"))\n",
    "distanciaPlaneta2 = int(input(\"Ingrese la distancia del segundo planeta\"))\n",
    "\n",
    "print('Distancia entre los dos planetas: ', abs(distanciaPlaneta1 - distanciaPlaneta2))\n",
    "print('Distancia entre los dos planetas en millas: ', abs(distanciaPlaneta1 - distanciaPlaneta2) * 0.621)"
   ]
  }
 ],
 "metadata": {
  "interpreter": {
   "hash": "445216e3f68042afd6e993c5a96e1dc1fc47c4fdf372eff228c54d36dfa3f393"
  },
  "kernelspec": {
   "display_name": "Python 3.10.2 64-bit",
   "language": "python",
   "name": "python3"
  },
  "language_info": {
   "codemirror_mode": {
    "name": "ipython",
    "version": 3
   },
   "file_extension": ".py",
   "mimetype": "text/x-python",
   "name": "python",
   "nbconvert_exporter": "python",
   "pygments_lexer": "ipython3",
   "version": "3.10.2"
  },
  "orig_nbformat": 4
 },
 "nbformat": 4,
 "nbformat_minor": 2
}
