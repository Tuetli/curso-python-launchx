{
 "cells": [
  {
   "cell_type": "markdown",
   "metadata": {},
   "source": [
    "## Ejercicio 1 Creacion de un bucle while"
   ]
  },
  {
   "cell_type": "code",
   "execution_count": 14,
   "metadata": {},
   "outputs": [
    {
     "name": "stdout",
     "output_type": "stream",
     "text": [
      "[]\n"
     ]
    }
   ],
   "source": [
    "planets = []\n",
    "newPlanet = ''\n",
    "\n",
    "while newPlanet.lower() != 'done':\n",
    "    if len(planets) == 0:\n",
    "        newPlanet = input('Ingresa el nombre de un planeta')\n",
    "    else:\n",
    "        newPlanet = input('Ingresa el nombre de un nuevo planeta')\n",
    "    planets.append(newPlanet)\n",
    "        \n",
    "\n",
    "print(planets[0:len(planets) -1])\n",
    "\n"
   ]
  },
  {
   "cell_type": "markdown",
   "metadata": {},
   "source": [
    "## Ejercicio 2 Creacion de un ciclo for"
   ]
  },
  {
   "cell_type": "code",
   "execution_count": 23,
   "metadata": {},
   "outputs": [
    {
     "name": "stdout",
     "output_type": "stream",
     "text": [
      "Planeta:  Mercurio\n",
      "Planeta:  Venus\n",
      "Planeta:  Tierra\n",
      "Planeta:  Marte\n"
     ]
    }
   ],
   "source": [
    "planets = []\n",
    "newPlanet = ''\n",
    "\n",
    "while newPlanet.lower() != 'done':\n",
    "    if len(planets) == 0:\n",
    "        newPlanet = input('Ingresa el nombre de un planeta')\n",
    "    else:\n",
    "        newPlanet = input('Ingresa el nombre de un nuevo planeta')\n",
    "    planets.append(newPlanet)\n",
    "planets.remove('done')\n",
    "\n",
    "for planet in planets:\n",
    "        print(planet)"
   ]
  }
 ],
 "metadata": {
  "interpreter": {
   "hash": "445216e3f68042afd6e993c5a96e1dc1fc47c4fdf372eff228c54d36dfa3f393"
  },
  "kernelspec": {
   "display_name": "Python 3.10.2 64-bit",
   "language": "python",
   "name": "python3"
  },
  "language_info": {
   "codemirror_mode": {
    "name": "ipython",
    "version": 3
   },
   "file_extension": ".py",
   "mimetype": "text/x-python",
   "name": "python",
   "nbconvert_exporter": "python",
   "pygments_lexer": "ipython3",
   "version": "3.10.2"
  },
  "orig_nbformat": 4
 },
 "nbformat": 4,
 "nbformat_minor": 2
}
